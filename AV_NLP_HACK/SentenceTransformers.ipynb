{
  "nbformat": 4,
  "nbformat_minor": 0,
  "metadata": {
    "colab": {
      "name": "SentenceTransformers.ipynb",
      "provenance": [],
      "authorship_tag": "ABX9TyP5htUKlezZIeBTLczVQHA4",
      "include_colab_link": true
    },
    "kernelspec": {
      "name": "python3",
      "display_name": "Python 3"
    },
    "accelerator": "GPU"
  },
  "cells": [
    {
      "cell_type": "markdown",
      "metadata": {
        "id": "view-in-github",
        "colab_type": "text"
      },
      "source": [
        "<a href=\"https://colab.research.google.com/github/ashavish/Hackathon/blob/master/AV_NLP_HACK/SentenceTransformers.ipynb\" target=\"_parent\"><img src=\"https://colab.research.google.com/assets/colab-badge.svg\" alt=\"Open In Colab\"/></a>"
      ]
    },
    {
      "cell_type": "markdown",
      "metadata": {
        "id": "_WwHbCfIKKlP"
      },
      "source": [
        "## Load Files"
      ]
    },
    {
      "cell_type": "code",
      "metadata": {
        "id": "b9HK6zLzJwYO"
      },
      "source": [
        "from google.colab import files\n",
        "files.upload()"
      ],
      "execution_count": 32,
      "outputs": []
    },
    {
      "cell_type": "code",
      "metadata": {
        "id": "8NBcnipEJ-Vn",
        "outputId": "4c5e8bc7-c190-497d-fcac-355aaaed28f3",
        "colab": {
          "base_uri": "https://localhost:8080/"
        }
      },
      "source": [
        "# !unzip -q Test_H6bikL1.zip\n",
        "# !unzip -q Train_aO7sTW8.zip\n",
        "!ls"
      ],
      "execution_count": 3,
      "outputs": [
        {
          "output_type": "stream",
          "text": [
            "__MACOSX     Tags.csv  Test_H6bikL1.zip   Train.csv\n",
            "sample_data  Test.csv  Train_aO7sTW8.zip\n"
          ],
          "name": "stdout"
        }
      ]
    },
    {
      "cell_type": "markdown",
      "metadata": {
        "id": "eLzCIN-2KWke"
      },
      "source": [
        "## Load Data"
      ]
    },
    {
      "cell_type": "code",
      "metadata": {
        "id": "H2pD9QnVJ3yJ"
      },
      "source": [
        "import pandas as pd\n",
        "import numpy as np\n",
        "import string\n",
        "\n",
        "train_data = pd.read_csv(\"Train.csv\")\n",
        "tags = pd.read_csv(\"Tags.csv\")\n",
        "test_data = pd.read_csv(\"Test.csv\")\n",
        "TOPIC_COLS = ['Computer Science','Mathematics','Physics','Statistics']\n",
        "TAGS = list(tags['Tags'])\n",
        "\n",
        "train_data['ABSTRACT'] = train_data['ABSTRACT'].str.lower()\n",
        "test_data['ABSTRACT'] = test_data['ABSTRACT'].str.lower()\n",
        "\n",
        "train_data['ABSTRACT'] = train_data['ABSTRACT'].str.translate(str.maketrans('', '', string.punctuation))\n",
        "test_data['ABSTRACT'] = test_data['ABSTRACT'].str.translate(str.maketrans('', '', string.punctuation))"
      ],
      "execution_count": 4,
      "outputs": []
    },
    {
      "cell_type": "markdown",
      "metadata": {
        "id": "BOVgTgsvKaJO"
      },
      "source": [
        "## Train Validation Split"
      ]
    },
    {
      "cell_type": "code",
      "metadata": {
        "id": "Sr3vzXjaKIhq"
      },
      "source": [
        "from sklearn.model_selection import train_test_split\n",
        "train, val = train_test_split(train_data,test_size=0.2,random_state=2)"
      ],
      "execution_count": 5,
      "outputs": []
    },
    {
      "cell_type": "markdown",
      "metadata": {
        "id": "J9Uha2MYK4bi"
      },
      "source": [
        "## Sentence Transformers"
      ]
    },
    {
      "cell_type": "code",
      "metadata": {
        "id": "5HsY5q3_ea-V"
      },
      "source": [
        "#!pip install sentence_transformers"
      ],
      "execution_count": 8,
      "outputs": []
    },
    {
      "cell_type": "code",
      "metadata": {
        "id": "bYYtMHESK3WO"
      },
      "source": [
        "from sentence_transformers import SentenceTransformer\n",
        "sbert_model = SentenceTransformer('bert-base-nli-mean-tokens')\n",
        "\n",
        "sentences = list(train['ABSTRACT'])+list(val['ABSTRACT'])\n",
        "sentence_embeddings = sbert_model.encode(sentences)"
      ],
      "execution_count": 13,
      "outputs": []
    },
    {
      "cell_type": "code",
      "metadata": {
        "id": "PXUVo7hneTpJ",
        "outputId": "fbe4e53c-1c33-4aba-9801-b16d588f693b",
        "colab": {
          "base_uri": "https://localhost:8080/"
        }
      },
      "source": [
        "sentence_embeddings.shape"
      ],
      "execution_count": 14,
      "outputs": [
        {
          "output_type": "execute_result",
          "data": {
            "text/plain": [
              "(14004, 768)"
            ]
          },
          "metadata": {
            "tags": []
          },
          "execution_count": 14
        }
      ]
    },
    {
      "cell_type": "code",
      "metadata": {
        "id": "4ZFJkELClM37"
      },
      "source": [
        "from sklearn.preprocessing import normalize\n",
        "sentence_embeddings = normalize(sentence_embeddings,axis=1)"
      ],
      "execution_count": 20,
      "outputs": []
    },
    {
      "cell_type": "code",
      "metadata": {
        "id": "HwVAkJxPiwfx",
        "outputId": "6199ae42-2988-4bae-a457-79cfa6c73659",
        "colab": {
          "base_uri": "https://localhost:8080/"
        }
      },
      "source": [
        "from sklearn.multiclass import OneVsRestClassifier\n",
        "from sklearn.linear_model import LogisticRegression\n",
        "clf = OneVsRestClassifier(LogisticRegression(C=10,n_jobs=1,max_iter=1000))\n",
        "\n",
        "trn_emb = sentence_embeddings[:len(train)]\n",
        "val_emb = sentence_embeddings[len(train):]\n",
        "\n",
        "clf.fit(trn_emb,train[TAGS])"
      ],
      "execution_count": 21,
      "outputs": [
        {
          "output_type": "execute_result",
          "data": {
            "text/plain": [
              "OneVsRestClassifier(estimator=LogisticRegression(C=10, class_weight=None,\n",
              "                                                 dual=False, fit_intercept=True,\n",
              "                                                 intercept_scaling=1,\n",
              "                                                 l1_ratio=None, max_iter=1000,\n",
              "                                                 multi_class='auto', n_jobs=1,\n",
              "                                                 penalty='l2',\n",
              "                                                 random_state=None,\n",
              "                                                 solver='lbfgs', tol=0.0001,\n",
              "                                                 verbose=0, warm_start=False),\n",
              "                    n_jobs=None)"
            ]
          },
          "metadata": {
            "tags": []
          },
          "execution_count": 21
        }
      ]
    },
    {
      "cell_type": "markdown",
      "metadata": {
        "id": "my1IcK1zkHck"
      },
      "source": [
        "## Best Threshold"
      ]
    },
    {
      "cell_type": "code",
      "metadata": {
        "id": "cPNEyP5qjz35"
      },
      "source": [
        "from sklearn.metrics import f1_score\n",
        "\n",
        "# Get best threshold for each label\n",
        "def get_cut_offthreshold(y_pred_prob,validation_set,TAGS):\n",
        "    '''\n",
        "    Get best threshold cut off for different labels to maximize the micro F1 score\n",
        "    '''\n",
        "    thresholds = np.array(list(range(0,100)))/100.0\n",
        "    best_thresholds = []\n",
        "    for idx in range(0,25):\n",
        "        scores = [f1_score(validation_set[TAGS[idx]], y_pred_prob[:,idx] > thresh, average='micro') for thresh in thresholds]\n",
        "        best_thresh = thresholds[np.argmax(scores)]\n",
        "        best_thresholds.append(best_thresh)\n",
        "    return best_thresholds\n",
        "\n",
        "def get_predictions(pred_prob,best_thresholds,TAGS):\n",
        "    '''\n",
        "    Get predictions based on probabilities and class specific thresholds\n",
        "    '''\n",
        "    predictions = np.zeros((pred_prob.shape[0],len(TAGS)))\n",
        "    for idx in range(0,25):\n",
        "        predictions[:,idx] = pred_prob[:,idx] > best_thresholds[idx]    \n",
        "    return predictions"
      ],
      "execution_count": 22,
      "outputs": []
    },
    {
      "cell_type": "code",
      "metadata": {
        "id": "j8qWUh32kOGJ",
        "outputId": "11cdc112-ef07-45b0-f934-1abfc2bdde82",
        "colab": {
          "base_uri": "https://localhost:8080/"
        }
      },
      "source": [
        "y_pred_prob = clf.predict_proba(val_emb)\n",
        "best_thresholds = get_cut_offthreshold(y_pred_prob,val,TAGS)\n",
        "y_pred = get_predictions(y_pred_prob,best_thresholds,TAGS)\n",
        "\n",
        "print(\"F1 Score on Validation Set\", f1_score(val[TAGS], y_pred, average='micro'))"
      ],
      "execution_count": 23,
      "outputs": [
        {
          "output_type": "stream",
          "text": [
            "F1 Score on Validation Set 0.6225692849487062\n"
          ],
          "name": "stdout"
        }
      ]
    },
    {
      "cell_type": "code",
      "metadata": {
        "id": "YFBFlVO-kUIk"
      },
      "source": [
        "# Predicting on Test\n",
        "\n",
        "test_emb = sbert_model.encode(list(test_data['ABSTRACT']))\n",
        "\n",
        "y_pred_test_prob = clf.predict_proba(test_emb)\n",
        "\n",
        "predictions = get_predictions(y_pred_test_prob,best_thresholds,TAGS)\n",
        "\n",
        "result = pd.DataFrame(predictions)\n",
        "result.columns = TAGS\n",
        "result['id'] = test_data['id']\n",
        "result.to_csv(\"sent_transf_logistic.csv\",index=False)"
      ],
      "execution_count": 27,
      "outputs": []
    },
    {
      "cell_type": "markdown",
      "metadata": {
        "id": "yogi9_xdl4z1"
      },
      "source": [
        "# Including Topic Columns"
      ]
    },
    {
      "cell_type": "code",
      "metadata": {
        "id": "VMvCiUR3l6OY"
      },
      "source": [
        "trn_abs = np.hstack((trn_emb,train[TOPIC_COLS]))\n",
        "val_abs = np.hstack((val_emb,val[TOPIC_COLS]))\n",
        "test_abs = np.hstack((test_emb,test_data[TOPIC_COLS]))"
      ],
      "execution_count": 28,
      "outputs": []
    },
    {
      "cell_type": "code",
      "metadata": {
        "id": "SZmBhmG_nK49",
        "outputId": "e64775e6-ca9c-4f17-89c9-5e865a7e6953",
        "colab": {
          "base_uri": "https://localhost:8080/"
        }
      },
      "source": [
        "from sklearn.multiclass import OneVsRestClassifier\n",
        "from sklearn.linear_model import LogisticRegression\n",
        "clf = OneVsRestClassifier(LogisticRegression(C=10,n_jobs=1,max_iter=1000))\n",
        "\n",
        "clf.fit(trn_abs,train[TAGS])"
      ],
      "execution_count": 29,
      "outputs": [
        {
          "output_type": "execute_result",
          "data": {
            "text/plain": [
              "OneVsRestClassifier(estimator=LogisticRegression(C=10, class_weight=None,\n",
              "                                                 dual=False, fit_intercept=True,\n",
              "                                                 intercept_scaling=1,\n",
              "                                                 l1_ratio=None, max_iter=1000,\n",
              "                                                 multi_class='auto', n_jobs=1,\n",
              "                                                 penalty='l2',\n",
              "                                                 random_state=None,\n",
              "                                                 solver='lbfgs', tol=0.0001,\n",
              "                                                 verbose=0, warm_start=False),\n",
              "                    n_jobs=None)"
            ]
          },
          "metadata": {
            "tags": []
          },
          "execution_count": 29
        }
      ]
    },
    {
      "cell_type": "code",
      "metadata": {
        "id": "Zy6k_5PrnZNY",
        "outputId": "75cc4ad3-7dc3-4bba-ef73-c89ec9180232",
        "colab": {
          "base_uri": "https://localhost:8080/"
        }
      },
      "source": [
        "y_pred_prob = clf.predict_proba(val_abs)\n",
        "best_thresholds = get_cut_offthreshold(y_pred_prob,val,TAGS)\n",
        "y_pred = get_predictions(y_pred_prob,best_thresholds,TAGS)\n",
        "\n",
        "print(\"F1 Score on Validation Set\", f1_score(val[TAGS], y_pred, average='micro'))"
      ],
      "execution_count": 30,
      "outputs": [
        {
          "output_type": "stream",
          "text": [
            "F1 Score on Validation Set 0.7093610698365527\n"
          ],
          "name": "stdout"
        }
      ]
    },
    {
      "cell_type": "code",
      "metadata": {
        "id": "f5CRwQG7ngso"
      },
      "source": [
        "# Predicting on Test\n",
        "\n",
        "y_pred_test_prob = clf.predict_proba(test_abs)\n",
        "\n",
        "predictions = get_predictions(y_pred_test_prob,best_thresholds,TAGS)\n",
        "\n",
        "result = pd.DataFrame(predictions)\n",
        "result.columns = TAGS\n",
        "result['id'] = test_data['id']\n",
        "result.to_csv(\"sent_transf_topic_cols_logistic.csv\",index=False)"
      ],
      "execution_count": 31,
      "outputs": []
    },
    {
      "cell_type": "code",
      "metadata": {
        "id": "iRFc6ax8ntxO"
      },
      "source": [
        ""
      ],
      "execution_count": null,
      "outputs": []
    }
  ]
}