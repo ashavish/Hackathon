{
 "cells": [
  {
   "cell_type": "markdown",
   "metadata": {},
   "source": [
    "### Import data"
   ]
  },
  {
   "cell_type": "code",
   "execution_count": 1,
   "metadata": {},
   "outputs": [],
   "source": [
    "import pandas as pd\n",
    "import numpy as np\n",
    "\n",
    "train_data = pd.read_csv(\"data/Train.csv\")\n",
    "tags = pd.read_csv(\"data/Tags.csv\")\n",
    "test_data = pd.read_csv(\"data/Test.csv\")"
   ]
  },
  {
   "cell_type": "code",
   "execution_count": 2,
   "metadata": {},
   "outputs": [
    {
     "name": "stdout",
     "output_type": "stream",
     "text": [
      "<class 'pandas.core.frame.DataFrame'>\n",
      "RangeIndex: 14004 entries, 0 to 14003\n",
      "Data columns (total 31 columns):\n",
      " #   Column                                        Non-Null Count  Dtype \n",
      "---  ------                                        --------------  ----- \n",
      " 0   id                                            14004 non-null  int64 \n",
      " 1   ABSTRACT                                      14004 non-null  object\n",
      " 2   Computer Science                              14004 non-null  int64 \n",
      " 3   Mathematics                                   14004 non-null  int64 \n",
      " 4   Physics                                       14004 non-null  int64 \n",
      " 5   Statistics                                    14004 non-null  int64 \n",
      " 6   Analysis of PDEs                              14004 non-null  int64 \n",
      " 7   Applications                                  14004 non-null  int64 \n",
      " 8   Artificial Intelligence                       14004 non-null  int64 \n",
      " 9   Astrophysics of Galaxies                      14004 non-null  int64 \n",
      " 10  Computation and Language                      14004 non-null  int64 \n",
      " 11  Computer Vision and Pattern Recognition       14004 non-null  int64 \n",
      " 12  Cosmology and Nongalactic Astrophysics        14004 non-null  int64 \n",
      " 13  Data Structures and Algorithms                14004 non-null  int64 \n",
      " 14  Differential Geometry                         14004 non-null  int64 \n",
      " 15  Earth and Planetary Astrophysics              14004 non-null  int64 \n",
      " 16  Fluid Dynamics                                14004 non-null  int64 \n",
      " 17  Information Theory                            14004 non-null  int64 \n",
      " 18  Instrumentation and Methods for Astrophysics  14004 non-null  int64 \n",
      " 19  Machine Learning                              14004 non-null  int64 \n",
      " 20  Materials Science                             14004 non-null  int64 \n",
      " 21  Methodology                                   14004 non-null  int64 \n",
      " 22  Number Theory                                 14004 non-null  int64 \n",
      " 23  Optimization and Control                      14004 non-null  int64 \n",
      " 24  Representation Theory                         14004 non-null  int64 \n",
      " 25  Robotics                                      14004 non-null  int64 \n",
      " 26  Social and Information Networks               14004 non-null  int64 \n",
      " 27  Statistics Theory                             14004 non-null  int64 \n",
      " 28  Strongly Correlated Electrons                 14004 non-null  int64 \n",
      " 29  Superconductivity                             14004 non-null  int64 \n",
      " 30  Systems and Control                           14004 non-null  int64 \n",
      "dtypes: int64(30), object(1)\n",
      "memory usage: 3.3+ MB\n"
     ]
    }
   ],
   "source": [
    "train_data.info()"
   ]
  },
  {
   "cell_type": "code",
   "execution_count": 3,
   "metadata": {},
   "outputs": [],
   "source": [
    "TOPIC_COLS = ['Computer Science','Mathematics','Physics','Statistics']\n",
    "TAGS = list(tags['Tags'])"
   ]
  },
  {
   "cell_type": "code",
   "execution_count": 4,
   "metadata": {},
   "outputs": [
    {
     "data": {
      "text/plain": [
       "['a ever-growing datasets inside observational astronomy have challenged scientists inside many aspects, including an efficient and interactive data exploration and visualization. many tools have been developed to confront this challenge. however, they usually focus on displaying a actual images or focus on visualizing patterns within catalogs inside the predefined way. inside this paper we introduce vizic, the python visualization library that builds a connection between images and catalogs through an interactive map of a sky region. vizic visualizes catalog data over the custom background canvas with the help of a shape, size and orientation of each object inside a catalog. a displayed objects inside a map are highly interactive and customizable comparing to those inside a images. these objects should be filtered by or colored by their properties, such as redshift and magnitude. they also should be sub-selected with the help of the lasso-like tool considering further analysis with the help of standard python functions from in the jupyter notebook. furthermore, vizic allows custom overlays to be appended dynamically on top of a sky map. we have initially implemented several overlays, namely, voronoi, delaunay, minimum spanning tree and healpix grid layers, which are helpful considering visualizing large-scale structure. all these overlays should be generated, added or removed interactively with one line of code. a catalog data was stored inside the non-relational database, and a interfaces were developed inside javascript and python to work within jupyter notebook, which allows to create custom widgets, user generated scripts to analyze and plot a data selected/displayed inside a interactive map. this unique design makes vizic the very powerful and flexible interactive analysis tool. vizic should be adopted inside variety of exercises, considering example, data inspection, clustering analysis, galaxy alignment studies, outlier identification or simply large-scale visualizations.',\n",
       " \"we propose the framework considering optimal $t$-matchings excluding a prescribed $t$-factors inside bipartite graphs. a proposed framework was the generalization of a nonbipartite matching problem and includes several problems, such as a triangle-free $2$-matching, square-free $2$-matching, even factor, and arborescence problems. inside this paper, we demonstrate the unified understanding of these problems by commonly extending previous important results. we solve our problem under the reasonable assumption, which was sufficiently broad to include a specific problems listed above. we first present the min-max theorem and the combinatorial algorithm considering a unweighted version. we then provide the linear programming formulation with dual integrality and the primal-dual algorithm considering a weighted version. the key ingredient of a proposed algorithm was the technique to shrink forbidden structures, which corresponds to a techniques of shrinking odd cycles, triangles, squares, and directed cycles inside edmonds' blossom algorithm, the triangle-free $2$-matching algorithm, the square-free $2$-matching algorithm, and an arborescence algorithm, respectively.\"]"
      ]
     },
     "execution_count": 4,
     "metadata": {},
     "output_type": "execute_result"
    }
   ],
   "source": [
    "list(train_data['ABSTRACT'])[:2]"
   ]
  },
  {
   "cell_type": "markdown",
   "metadata": {},
   "source": [
    "### Preprocessing"
   ]
  },
  {
   "cell_type": "code",
   "execution_count": 5,
   "metadata": {},
   "outputs": [],
   "source": [
    "train_data['ABSTRACT'] = train_data['ABSTRACT'].str.lower()\n",
    "test_data['ABSTRACT'] = test_data['ABSTRACT'].str.lower()"
   ]
  },
  {
   "cell_type": "code",
   "execution_count": 6,
   "metadata": {},
   "outputs": [],
   "source": [
    "import string\n",
    "train_data['ABSTRACT'] = train_data['ABSTRACT'].str.translate(str.maketrans('', '', string.punctuation))\n",
    "test_data['ABSTRACT'] = test_data['ABSTRACT'].str.translate(str.maketrans('', '', string.punctuation))"
   ]
  },
  {
   "cell_type": "markdown",
   "metadata": {},
   "source": [
    "### Test Train Split"
   ]
  },
  {
   "cell_type": "code",
   "execution_count": 7,
   "metadata": {},
   "outputs": [],
   "source": [
    "from sklearn.model_selection import train_test_split\n",
    "train, val = train_test_split(train_data,test_size=0.2,random_state=2)"
   ]
  },
  {
   "cell_type": "markdown",
   "metadata": {},
   "source": [
    "### Common Functions"
   ]
  },
  {
   "cell_type": "code",
   "execution_count": 27,
   "metadata": {},
   "outputs": [],
   "source": [
    "from sklearn.metrics import f1_score\n",
    "\n",
    "# Get best threshold for each label\n",
    "def get_cut_offthreshold(y_pred_prob,validation_set,TAGS):\n",
    "    '''\n",
    "    Get best threshold cut off for different labels to maximize the micro F1 score\n",
    "    '''\n",
    "    thresholds = np.array(list(range(0,100)))/100.0\n",
    "    best_thresholds = []\n",
    "    for idx in range(0,25):\n",
    "        scores = [f1_score(validation_set[TAGS[idx]], y_pred_prob[:,idx] > thresh, average='micro') for thresh in thresholds]\n",
    "        best_thresh = thresholds[np.argmax(scores)]\n",
    "        best_thresholds.append(best_thresh)\n",
    "    return best_thresholds\n",
    "\n",
    "def get_predictions(pred_prob,best_thresholds,TAGS):\n",
    "    '''\n",
    "    Get predictions based on probabilities and class specific thresholds\n",
    "    '''\n",
    "    predictions = np.zeros((pred_prob.shape[0],len(TAGS)))\n",
    "    for idx in range(0,25):\n",
    "        predictions[:,idx] = pred_prob[:,idx] > best_thresholds[idx]    \n",
    "    return predictions"
   ]
  },
  {
   "cell_type": "markdown",
   "metadata": {},
   "source": [
    "# Creating files for FastText Training"
   ]
  },
  {
   "cell_type": "code",
   "execution_count": 22,
   "metadata": {},
   "outputs": [],
   "source": [
    "TAGS = np.array(TAGS)\n",
    "all_abstracts = list(train['ABSTRACT'])\n",
    "row_no = np.where(np.array(train[TAGS])==1)[0]\n",
    "tag_name = TAGS[np.where(np.array(train[TAGS])==1)[1]]\n",
    "\n",
    "x = pd.DataFrame({'row_no':row_no,'tag':tag_name})\n",
    "x['tag'] = x.tag.apply(lambda x: [x.lower()])\n",
    "x_grouped = x.groupby(row_no)['tag'].agg('sum').reset_index()\n",
    "x_grouped\n",
    "f = open(\"avhack_tags_train.txt\",\"w\")\n",
    "for i,each in enumerate(x_grouped.iterrows()):\n",
    "    label = \"\"\n",
    "    for y in each[1]['tag']:\n",
    "        label = label + \"__label\" + \"__\" + \"_\".join(y.split()) + \" \"\n",
    "    out_text = label + all_abstracts[i]    \n",
    "    f.write(out_text)\n",
    "    f.write(\"\\n\")\n",
    "\n",
    "f.close()\n",
    "\n",
    "\n",
    "all_abstracts = list(val['ABSTRACT'])\n",
    "row_no = np.where(np.array(val[TAGS])==1)[0]\n",
    "tag_name = TAGS[np.where(np.array(val[TAGS])==1)[1]]\n",
    "x = pd.DataFrame({'row_no':row_no,'tag':tag_name})\n",
    "x['tag'] = x.tag.apply(lambda x: [x.lower()])\n",
    "x_grouped = x.groupby(row_no)['tag'].agg('sum').reset_index()\n",
    "x_grouped\n",
    "f = open(\"avhack_tags_val.txt\",\"w\")\n",
    "for i,each in enumerate(x_grouped.iterrows()):\n",
    "    label = \"\"\n",
    "    for y in each[1]['tag']:\n",
    "        label = label + \"__label\" + \"__\" + \"_\".join(y.split()) + \" \"\n",
    "    out_text = label + all_abstracts[i]    \n",
    "    f.write(out_text)\n",
    "    f.write(\"\\n\")\n",
    "\n",
    "f.close()"
   ]
  },
  {
   "cell_type": "code",
   "execution_count": 23,
   "metadata": {},
   "outputs": [
    {
     "data": {
      "text/plain": [
       "(2801, 0.05356658336308461, 1.0)"
      ]
     },
     "execution_count": 23,
     "metadata": {},
     "output_type": "execute_result"
    }
   ],
   "source": [
    "import fasttext\n",
    "model = fasttext.train_supervised(input=\"avhack_tags_train.txt\", lr=0.1, epoch=200, wordNgrams=2, bucket=200000, dim=50, loss='ova')\n",
    "model.test(\"avhack_tags_val.txt\", k=-1)"
   ]
  },
  {
   "cell_type": "code",
   "execution_count": 24,
   "metadata": {},
   "outputs": [],
   "source": [
    "all_abstracts = list(val['ABSTRACT'])\n",
    "predictions = model.predict(all_abstracts,k=-1,threshold=0)"
   ]
  },
  {
   "cell_type": "code",
   "execution_count": 25,
   "metadata": {},
   "outputs": [],
   "source": [
    "def get_pred_prob(predictions):\n",
    "    fasttext_labels = [\"__label\" + \"__\" + \"_\".join(each.lower().split()) for each in TAGS]\n",
    "\n",
    "    all_label_probs = np.empty((0,25))\n",
    "    for pred_record,pred_probs in zip(predictions[0],predictions[1]):\n",
    "        label_probs = pd.DataFrame({'label':pred_record,'prob':pred_probs})\n",
    "        label_probs = label_probs.sort_values(by='label')\n",
    "        label_order = list(label_probs['label'])\n",
    "        label_probs = np.expand_dims(np.array(list(label_probs['prob'])),axis=0)\n",
    "        all_label_probs = np.concatenate((all_label_probs,label_probs),axis=0)\n",
    "\n",
    "    prediction_pd = pd.DataFrame(all_label_probs)\n",
    "    prediction_pd.columns = label_order\n",
    "\n",
    "    prediction_pd = prediction_pd[fasttext_labels]\n",
    "    prediction_pd.columns = TAGS\n",
    "    y_pred_test = np.array(prediction_pd)\n",
    "    return y_pred_test\n",
    "\n",
    "y_pred_prob = get_pred_prob(predictions)"
   ]
  },
  {
   "cell_type": "code",
   "execution_count": 28,
   "metadata": {},
   "outputs": [
    {
     "name": "stdout",
     "output_type": "stream",
     "text": [
      "F1 Score on Validation Set 0.6504358280733392\n"
     ]
    }
   ],
   "source": [
    "best_thresholds = get_cut_offthreshold(y_pred_prob,val,TAGS)\n",
    "y_pred = get_predictions(y_pred_prob,best_thresholds,TAGS)\n",
    "\n",
    "print(\"F1 Score on Validation Set\", f1_score(val[TAGS], y_pred, average='micro'))"
   ]
  },
  {
   "cell_type": "code",
   "execution_count": 29,
   "metadata": {},
   "outputs": [],
   "source": [
    "# Predicting on Test\n",
    "test_predictions = model.predict(list(test_data['ABSTRACT']),k=-1,threshold=0)\n",
    "y_pred_test_prob = get_pred_prob(test_predictions)\n",
    "\n",
    "predictions = get_predictions(y_pred_test_prob,best_thresholds,TAGS)\n",
    "\n",
    "result = pd.DataFrame(predictions)\n",
    "result.columns = TAGS\n",
    "result['id'] = test_data['id']\n",
    "result.to_csv(\"fasttext_classifier.csv\",index=False)"
   ]
  },
  {
   "cell_type": "code",
   "execution_count": null,
   "metadata": {},
   "outputs": [],
   "source": []
  }
 ],
 "metadata": {
  "kernelspec": {
   "display_name": "venv",
   "language": "python",
   "name": "venv"
  },
  "language_info": {
   "codemirror_mode": {
    "name": "ipython",
    "version": 3
   },
   "file_extension": ".py",
   "mimetype": "text/x-python",
   "name": "python",
   "nbconvert_exporter": "python",
   "pygments_lexer": "ipython3",
   "version": "3.6.9"
  }
 },
 "nbformat": 4,
 "nbformat_minor": 4
}
